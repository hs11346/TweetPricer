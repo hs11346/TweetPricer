{
 "cells": [
  {
   "cell_type": "code",
   "execution_count": 1,
   "id": "2c4c3cbe",
   "metadata": {},
   "outputs": [
    {
     "name": "stderr",
     "output_type": "stream",
     "text": [
      "c:\\Users\\hsee\\OneDrive - LMR Partners\\Documents\\count process\\.venv\\Lib\\site-packages\\tqdm_joblib\\__init__.py:4: TqdmWarning: IProgress not found. Please update jupyter and ipywidgets. See https://ipywidgets.readthedocs.io/en/stable/user_install.html\n",
      "  from tqdm.autonotebook import tqdm\n"
     ]
    }
   ],
   "source": [
    "import pandas as pd\n",
    "import numpy as np\n",
    "import re\n",
    "import matplotlib.pyplot as plt\n",
    "from dateutil import parser\n",
    "try:\n",
    "    import Hawkes as hk\n",
    "except:\n",
    "    import Hawkes as hk\n",
    "import requests\n",
    "from datetime import datetime, timedelta, timezone\n",
    "import pytz\n",
    "import ast\n",
    "import seaborn as sns\n",
    "from tqdm import tqdm\n",
    "import time\n",
    "import warnings\n",
    "from joblib import Parallel, delayed\n",
    "from tqdm_joblib import tqdm_joblib\n",
    "\n",
    "warnings.filterwarnings(\"ignore\")"
   ]
  },
  {
   "cell_type": "code",
   "execution_count": 79,
   "id": "b5186cef",
   "metadata": {},
   "outputs": [],
   "source": [
    "HEADERS = {\n",
    "    'Accept': '*/*',\n",
    "    'User-Agent': 'Mozilla/5.0 (Macintosh; Intel Mac OS X 10_15_7) AppleWebKit/537.36 (KHTML, like Gecko) Chrome/131.0.0.0 Safari/537.36',\n",
    "}\n",
    "\n",
    "TWEET_API_URL = {\n",
    "    \"elon\" : \"https://www.xtracker.io/api/users?stats=true&platform=X\",\n",
    "    \"trump\" : \"https://www.xtracker.io/api/users?stats=true&platform=TRUTH_SOCIAL\"\n",
    "}\n",
    "NAME = {\n",
    "    \"elon\" : \"Elon Musk\",\n",
    "    \"trump\" : \"Donald Trump\"\n",
    "}\n",
    "TIMEZONE_INFO = {\"EDT\": -4 * 3600, \"EST\": -5 * 3600}\n",
    "\n",
    "def fetch_tweets(person, utc=True):\n",
    "    try:\n",
    "        csv_path = 'elonmusk.csv'\n",
    "\n",
    "        with open(csv_path, mode='r', encoding='utf-8') as f:\n",
    "            large_text = f.read()\n",
    "\n",
    "        id = re.findall(r'(\\d+),\"[\\s\\S]+?\",\"\\w\\w\\w .+\"\\n', large_text)\n",
    "        text = re.findall(r'\\d+,\"([\\s\\S]+?)\",\"\\w\\w\\w .+\"\\n', large_text)\n",
    "        date = re.findall(r'\\d+,\"[\\s\\S]+?\",\"(\\w\\w\\w .+)\"\\n', large_text)\n",
    "\n",
    "        df = pd.DataFrame([id, text, date]).T\n",
    "        \n",
    "        df.columns = [\"id\", \"text\", \"date\"]\n",
    "        df = df.iloc[8000:]\n",
    "        df['date'] = np.where(df['date'].str.contains(\"Jan|Feb|Mar|Apr|May|Jun\"),\n",
    "                              df['date'] + ' 2025',\n",
    "                              df['date'] + \" 2024\")\n",
    "        if utc:\n",
    "            df.date = pd.to_datetime(df.date.apply(\n",
    "                lambda x: parser.parse(x, tzinfos=TIMEZONE_INFO)), utc=True)\n",
    "            df['dateint'] = df['date'].astype(int) // (60 * 10 ** 9)\n",
    "        else:\n",
    "            df.date = pd.to_datetime(df.date.apply(\n",
    "                lambda x: parser.parse(x, tzinfos=TIMEZONE_INFO)), utc=True)\n",
    "\n",
    "        return df\n",
    "    except Exception as e:\n",
    "        return pd.DataFrame()"
   ]
  },
  {
   "cell_type": "code",
   "execution_count": 80,
   "id": "e2e8d744",
   "metadata": {},
   "outputs": [
    {
     "data": {
      "application/vnd.microsoft.datawrangler.viewer.v0+json": {
       "columns": [
        {
         "name": "index",
         "rawType": "int64",
         "type": "integer"
        },
        {
         "name": "id",
         "rawType": "object",
         "type": "string"
        },
        {
         "name": "text",
         "rawType": "object",
         "type": "string"
        },
        {
         "name": "date",
         "rawType": "datetime64[ns, UTC]",
         "type": "unknown"
        },
        {
         "name": "dateint",
         "rawType": "int64",
         "type": "integer"
        }
       ],
       "ref": "222c059b-dc5c-4a26-9c0c-fd49084c1670",
       "rows": [
        [
         "8000",
         "1875928891858244032",
         "💯 https://t.co/otPKlOeTLP",
         "2025-01-05 15:34:35+00:00",
         "28934854"
        ],
        [
         "8001",
         "1875931298143084755",
         "For anyone doubting the severity and depravity of the mass gang rapes of little girls in Britain, go to the source material and read the court transcripts. I did. \n\nIt is worse than you could possibly imagine. https://t.co/OeK2uVxJ93",
         "2025-01-05 15:44:09+00:00",
         "28934864"
        ],
        [
         "8002",
         "1875931398881824801",
         "https://t.co/4rQwcyw4Lk",
         "2025-01-05 15:44:33+00:00",
         "28934864"
        ],
        [
         "8003",
         "1875931711248474433",
         "https://t.co/mt1csIreQd",
         "2025-01-05 15:45:47+00:00",
         "28934865"
        ],
        [
         "8004",
         "1875933025638441177",
         "Imagine you are a father going to rescue your daughter from gang rape and possibly murder, but the police arrest YOU instead …",
         "2025-01-05 15:51:01+00:00",
         "28934871"
        ],
        [
         "8005",
         "1875934421507039302",
         "I have not met Rupert Lowe, but his statements online that I have read so far make a lot of sense https://t.co/bxHaigf3A1",
         "2025-01-05 15:56:33+00:00",
         "28934876"
        ],
        [
         "8006",
         "1875934847132426689",
         "For the truth, however beautiful or awful the truth may be, 𝕏 is where you will find it https://t.co/zvFvK4gA46",
         "2025-01-05 15:58:15+00:00",
         "28934878"
        ],
        [
         "8007",
         "1875935051118203274",
         "Starmer must go. He is national embarrassment. https://t.co/kAsE2KHMpV",
         "2025-01-05 15:59:04+00:00",
         "28934879"
        ],
        [
         "8008",
         "1875943223979659468",
         "🏅 https://t.co/ZNHJTV1ApN",
         "2025-01-05 16:31:32+00:00",
         "28934911"
        ],
        [
         "8009",
         "1875981740633891261",
         "Yes https://t.co/iuwIxESwd2",
         "2025-01-05 19:04:35+00:00",
         "28935064"
        ],
        [
         "8010",
         "1875983785893966316",
         "Prepare for some epic cringe https://t.co/jthmUvfhzC",
         "2025-01-05 19:12:43+00:00",
         "28935072"
        ],
        [
         "8011",
         "1875985029563842824",
         "🇺🇸🇺🇸🇺🇸🇺🇸🇺🇸🇺🇸🇺🇸🇺🇸🇺🇸🇺🇸🇺🇸🇺🇸🇺🇸 https://t.co/5oi2VJAm0Y",
         "2025-01-05 19:17:39+00:00",
         "28935077"
        ],
        [
         "8012",
         "1875997277980102834",
         "RT @spacesudoer: All the new developments on Flight 7 Starship! https://t.co/jglghI68yZ",
         "2025-01-05 20:06:20+00:00",
         "28935126"
        ],
        [
         "8013",
         "1875997667396047204",
         "Thank you, Nancy! https://t.co/n6d5loYnIw",
         "2025-01-05 20:07:52+00:00",
         "28935127"
        ],
        [
         "8014",
         "1875998467937775913",
         "Wow https://t.co/FKvDauVdRu",
         "2025-01-05 20:11:03+00:00",
         "28935131"
        ],
        [
         "8015",
         "1876024962118787273",
         "Wow https://t.co/P1HpFAdTTA",
         "2025-01-05 21:56:20+00:00",
         "28935236"
        ],
        [
         "8016",
         "1876025643902885894",
         "Is this accurate? @CommunityNotes https://t.co/M2XsgY6UDP",
         "2025-01-05 21:59:03+00:00",
         "28935239"
        ],
        [
         "8017",
         "1876025855740359040",
         "Interesting perspective https://t.co/wVEXFMMmRm",
         "2025-01-05 21:59:53+00:00",
         "28935239"
        ],
        [
         "8018",
         "1876082730527752375",
         "RT @TheFP: The serial rape of thousands of English girls went on for many years. Few in power cared. \n\nThen Elon Musk started tweeting.\n\n@D…",
         "2025-01-06 01:45:53+00:00",
         "28935465"
        ],
        [
         "8019",
         "1876083406846771374",
         "Interesting https://t.co/p5wIEgrbDe",
         "2025-01-06 01:48:34+00:00",
         "28935468"
        ],
        [
         "8020",
         "1876083467370549707",
         "RT @bariweiss: \"Britain now stands shamed before the world. The public’s suppressed wrath is bubbling to the surface in petitions, calls fo…",
         "2025-01-06 01:48:49+00:00",
         "28935468"
        ],
        [
         "8021",
         "1876085127199305860",
         "Interview with @ZelenskyyUa https://t.co/0SYUllZWNI",
         "2025-01-06 01:55:24+00:00",
         "28935475"
        ],
        [
         "8022",
         "1876107251276251257",
         "Accurate description of what’s really going on by @benhabib6 https://t.co/ATiwrENNBE",
         "2025-01-06 03:23:19+00:00",
         "28935563"
        ],
        [
         "8023",
         "1876107435376791789",
         "Because the answer is essentially zero https://t.co/yzFVfyci7m",
         "2025-01-06 03:24:03+00:00",
         "28935564"
        ],
        [
         "8024",
         "1876109148800401529",
         "Wow https://t.co/p2U8Gc2ZX3",
         "2025-01-06 03:30:52+00:00",
         "28935570"
        ],
        [
         "8025",
         "1876117478146969898",
         "Millions of rapes … https://t.co/VGau51nNF4",
         "2025-01-06 04:03:58+00:00",
         "28935603"
        ],
        [
         "8026",
         "1876118019090612497",
         "You don’t hate the legacy media enough https://t.co/mlnHn2suDk",
         "2025-01-06 04:06:06+00:00",
         "28935606"
        ],
        [
         "8027",
         "1876119026629546036",
         "You have finger guns, we have real guns https://t.co/FphDVTLsDc",
         "2025-01-06 04:10:07+00:00",
         "28935610"
        ],
        [
         "8028",
         "1876119594223734786",
         "RT @BillAckman: An important @TheFP piece on the serial rape of English girls and the ongoing coverup.",
         "2025-01-06 04:12:22+00:00",
         "28935612"
        ],
        [
         "8029",
         "1876119850747400657",
         "Unreal https://t.co/HBaArCDdRx",
         "2025-01-06 04:13:23+00:00",
         "28935613"
        ],
        [
         "8030",
         "1876119924206363115",
         "💯 https://t.co/IYiuvTX6MT",
         "2025-01-06 04:13:41+00:00",
         "28935613"
        ],
        [
         "8031",
         "1876120205954531340",
         "RT @realDonaldTrump: Members of Congress are getting to work on one powerful Bill that will bring our Country back, and make it greater tha…",
         "2025-01-06 04:14:48+00:00",
         "28935614"
        ],
        [
         "8032",
         "1876120492844736708",
         "RT @Cmdr_Hadfield: Very handy graphic of changes/upgrades for the impending @SpaceX Starship launch. \nThanks @VikranthJonna for making it!…",
         "2025-01-06 04:15:56+00:00",
         "28935615"
        ],
        [
         "8033",
         "1876126755976786075",
         "RT @levie: This machine will manufacture most of the intelligence in the world. https://t.co/wNnspelPD1",
         "2025-01-06 04:40:50+00:00",
         "28935640"
        ],
        [
         "8034",
         "1876129279429501094",
         "Yup https://t.co/CCUF2CHlet",
         "2025-01-06 04:50:51+00:00",
         "28935650"
        ],
        [
         "8035",
         "1876129982839447902",
         "Yes https://t.co/TmN0BmpcIm",
         "2025-01-06 04:53:39+00:00",
         "28935653"
        ],
        [
         "8036",
         "1876130419093168508",
         "RT @libsoftiktok: Here’s some POSITIVE content for X 🥰😁 https://t.co/fRPvVUOSt6",
         "2025-01-06 04:55:23+00:00",
         "28935655"
        ],
        [
         "8037",
         "1876131592764293409",
         "RT @EndWokeness: America, 1975: \"I bet in 50 years we'll have flying cars and live on Mars\"\n\nAmerica, 2025: https://t.co/jblmxRbHGv",
         "2025-01-06 05:00:03+00:00",
         "28935660"
        ],
        [
         "8038",
         "1876131918191943726",
         "True https://t.co/ruvXHgdL9j",
         "2025-01-06 05:01:20+00:00",
         "28935661"
        ],
        [
         "8039",
         "1876132941186961408",
         "What!!?? Explain yourself, Gordon Brown. https://t.co/zeBkYFKWlQ",
         "2025-01-06 05:05:24+00:00",
         "28935665"
        ],
        [
         "8040",
         "1876134121908617284",
         "RT @MarioNawfal: 🚨SUICIDAL EMPATHY: WHEN YOU CARE MORE ABOUT THE PERPETRATOR THAN THE VICTIM\n\nGad Saad:\n\n\"Here's how the that leftist argum…",
         "2025-01-06 05:10:06+00:00",
         "28935670"
        ],
        [
         "8041",
         "1876142847738667299",
         "Have they deported any of the gang rapists? Even one? https://t.co/EjR6At1aby",
         "2025-01-06 05:44:46+00:00",
         "28935704"
        ],
        [
         "8042",
         "1876145346352668722",
         "True https://t.co/HNnrTXf94N",
         "2025-01-06 05:54:42+00:00",
         "28935714"
        ],
        [
         "8043",
         "1876145510618444100",
         "RT @DaveAtherton20: Never forget how vile @jessphillips is. On News Year Eve 2016 in Cologne Germany 1,200 women &amp; girls were harassed, sex…",
         "2025-01-06 05:55:21+00:00",
         "28935715"
        ],
        [
         "8044",
         "1876145788683981126",
         "Starmer is complicit in the crimes https://t.co/gyKqCNLZK0",
         "2025-01-06 05:56:27+00:00",
         "28935716"
        ],
        [
         "8045",
         "1876146442970321381",
         "… https://t.co/Ry4qeDcQN4",
         "2025-01-06 05:59:03+00:00",
         "28935719"
        ],
        [
         "8046",
         "1876147031200477647",
         "Gordon Brown committed an unforgivable crime against the British people https://t.co/dKN60hWLTK",
         "2025-01-06 06:01:24+00:00",
         "28935721"
        ],
        [
         "8047",
         "1876147362131071014",
         "Prison for Starmer https://t.co/6RxIyGnYkG",
         "2025-01-06 06:02:42+00:00",
         "28935722"
        ],
        [
         "8048",
         "1876150956121018807",
         "RT @alanvibe: Peter Lynch grandad sentenced 2 yr 8 mths prison after holding up placard &amp; shouting at policeman Rotherham: committed suicid…",
         "2025-01-06 06:16:59+00:00",
         "28935736"
        ],
        [
         "8049",
         "1876153955505647744",
         "99 agencies is more than enough https://t.co/X1x4mqGlvU",
         "2025-01-06 06:28:54+00:00",
         "28935748"
        ]
       ],
       "shape": {
        "columns": 4,
        "rows": 9177
       }
      },
      "text/html": [
       "<div>\n",
       "<style scoped>\n",
       "    .dataframe tbody tr th:only-of-type {\n",
       "        vertical-align: middle;\n",
       "    }\n",
       "\n",
       "    .dataframe tbody tr th {\n",
       "        vertical-align: top;\n",
       "    }\n",
       "\n",
       "    .dataframe thead th {\n",
       "        text-align: right;\n",
       "    }\n",
       "</style>\n",
       "<table border=\"1\" class=\"dataframe\">\n",
       "  <thead>\n",
       "    <tr style=\"text-align: right;\">\n",
       "      <th></th>\n",
       "      <th>id</th>\n",
       "      <th>text</th>\n",
       "      <th>date</th>\n",
       "      <th>dateint</th>\n",
       "    </tr>\n",
       "  </thead>\n",
       "  <tbody>\n",
       "    <tr>\n",
       "      <th>8000</th>\n",
       "      <td>1875928891858244032</td>\n",
       "      <td>💯 https://t.co/otPKlOeTLP</td>\n",
       "      <td>2025-01-05 15:34:35+00:00</td>\n",
       "      <td>28934854</td>\n",
       "    </tr>\n",
       "    <tr>\n",
       "      <th>8001</th>\n",
       "      <td>1875931298143084755</td>\n",
       "      <td>For anyone doubting the severity and depravity...</td>\n",
       "      <td>2025-01-05 15:44:09+00:00</td>\n",
       "      <td>28934864</td>\n",
       "    </tr>\n",
       "    <tr>\n",
       "      <th>8002</th>\n",
       "      <td>1875931398881824801</td>\n",
       "      <td>https://t.co/4rQwcyw4Lk</td>\n",
       "      <td>2025-01-05 15:44:33+00:00</td>\n",
       "      <td>28934864</td>\n",
       "    </tr>\n",
       "    <tr>\n",
       "      <th>8003</th>\n",
       "      <td>1875931711248474433</td>\n",
       "      <td>https://t.co/mt1csIreQd</td>\n",
       "      <td>2025-01-05 15:45:47+00:00</td>\n",
       "      <td>28934865</td>\n",
       "    </tr>\n",
       "    <tr>\n",
       "      <th>8004</th>\n",
       "      <td>1875933025638441177</td>\n",
       "      <td>Imagine you are a father going to rescue your ...</td>\n",
       "      <td>2025-01-05 15:51:01+00:00</td>\n",
       "      <td>28934871</td>\n",
       "    </tr>\n",
       "    <tr>\n",
       "      <th>...</th>\n",
       "      <td>...</td>\n",
       "      <td>...</td>\n",
       "      <td>...</td>\n",
       "      <td>...</td>\n",
       "    </tr>\n",
       "    <tr>\n",
       "      <th>17172</th>\n",
       "      <td>1937570280978940198</td>\n",
       "      <td>RT @SawyerMerritt: NEWS: T-Mobile's satellite ...</td>\n",
       "      <td>2025-06-24 17:55:27+00:00</td>\n",
       "      <td>29179795</td>\n",
       "    </tr>\n",
       "    <tr>\n",
       "      <th>17173</th>\n",
       "      <td>1937570599305699635</td>\n",
       "      <td>RT @ramez: More EVs are now sold every year in...</td>\n",
       "      <td>2025-06-24 17:56:43+00:00</td>\n",
       "      <td>29179796</td>\n",
       "    </tr>\n",
       "    <tr>\n",
       "      <th>17174</th>\n",
       "      <td>1937572764816474565</td>\n",
       "      <td>RT @DimaZeniuk: Today's technology feels like ...</td>\n",
       "      <td>2025-06-24 18:05:20+00:00</td>\n",
       "      <td>29179805</td>\n",
       "    </tr>\n",
       "    <tr>\n",
       "      <th>17175</th>\n",
       "      <td>1937600690395987971</td>\n",
       "      <td>RT @BLKMDL3: Tesla Robotaxi perfectly handles ...</td>\n",
       "      <td>2025-06-24 19:56:18+00:00</td>\n",
       "      <td>29179916</td>\n",
       "    </tr>\n",
       "    <tr>\n",
       "      <th>17176</th>\n",
       "      <td>1937679987362136522</td>\n",
       "      <td>RT @Starlink: Starlink is designed for self-in...</td>\n",
       "      <td>2025-06-25 01:11:23+00:00</td>\n",
       "      <td>29180231</td>\n",
       "    </tr>\n",
       "  </tbody>\n",
       "</table>\n",
       "<p>9177 rows × 4 columns</p>\n",
       "</div>"
      ],
      "text/plain": [
       "                        id                                               text  \\\n",
       "8000   1875928891858244032                          💯 https://t.co/otPKlOeTLP   \n",
       "8001   1875931298143084755  For anyone doubting the severity and depravity...   \n",
       "8002   1875931398881824801                            https://t.co/4rQwcyw4Lk   \n",
       "8003   1875931711248474433                            https://t.co/mt1csIreQd   \n",
       "8004   1875933025638441177  Imagine you are a father going to rescue your ...   \n",
       "...                    ...                                                ...   \n",
       "17172  1937570280978940198  RT @SawyerMerritt: NEWS: T-Mobile's satellite ...   \n",
       "17173  1937570599305699635  RT @ramez: More EVs are now sold every year in...   \n",
       "17174  1937572764816474565  RT @DimaZeniuk: Today's technology feels like ...   \n",
       "17175  1937600690395987971  RT @BLKMDL3: Tesla Robotaxi perfectly handles ...   \n",
       "17176  1937679987362136522  RT @Starlink: Starlink is designed for self-in...   \n",
       "\n",
       "                           date   dateint  \n",
       "8000  2025-01-05 15:34:35+00:00  28934854  \n",
       "8001  2025-01-05 15:44:09+00:00  28934864  \n",
       "8002  2025-01-05 15:44:33+00:00  28934864  \n",
       "8003  2025-01-05 15:45:47+00:00  28934865  \n",
       "8004  2025-01-05 15:51:01+00:00  28934871  \n",
       "...                         ...       ...  \n",
       "17172 2025-06-24 17:55:27+00:00  29179795  \n",
       "17173 2025-06-24 17:56:43+00:00  29179796  \n",
       "17174 2025-06-24 18:05:20+00:00  29179805  \n",
       "17175 2025-06-24 19:56:18+00:00  29179916  \n",
       "17176 2025-06-25 01:11:23+00:00  29180231  \n",
       "\n",
       "[9177 rows x 4 columns]"
      ]
     },
     "execution_count": 80,
     "metadata": {},
     "output_type": "execute_result"
    }
   ],
   "source": [
    "df = fetch_tweets('elon', utc=True)\n",
    "df"
   ]
  },
  {
   "cell_type": "code",
   "execution_count": 81,
   "id": "6be8d87a",
   "metadata": {},
   "outputs": [],
   "source": [
    "fridays = (pd.date_range(\"2024-12-20\", end = \"2025-06-20\", freq = \"W\") - pd.Timedelta(days = 2)).tz_localize(0) + pd.Timedelta(hours = 17)"
   ]
  },
  {
   "cell_type": "code",
   "execution_count": 169,
   "id": "5edc4f7a",
   "metadata": {},
   "outputs": [
    {
     "data": {
      "text/plain": [
       "DatetimeIndex(['2024-12-20 17:00:00+00:00', '2024-12-27 17:00:00+00:00',\n",
       "               '2025-01-03 17:00:00+00:00', '2025-01-10 17:00:00+00:00',\n",
       "               '2025-01-17 17:00:00+00:00', '2025-01-24 17:00:00+00:00',\n",
       "               '2025-01-31 17:00:00+00:00', '2025-02-07 17:00:00+00:00',\n",
       "               '2025-02-14 17:00:00+00:00', '2025-02-21 17:00:00+00:00',\n",
       "               '2025-02-28 17:00:00+00:00', '2025-03-07 17:00:00+00:00',\n",
       "               '2025-03-14 17:00:00+00:00', '2025-03-21 17:00:00+00:00',\n",
       "               '2025-03-28 17:00:00+00:00', '2025-04-04 17:00:00+00:00',\n",
       "               '2025-04-11 17:00:00+00:00', '2025-04-18 17:00:00+00:00',\n",
       "               '2025-04-25 17:00:00+00:00', '2025-05-02 17:00:00+00:00',\n",
       "               '2025-05-09 17:00:00+00:00', '2025-05-16 17:00:00+00:00',\n",
       "               '2025-05-23 17:00:00+00:00', '2025-05-30 17:00:00+00:00',\n",
       "               '2025-06-06 17:00:00+00:00', '2025-06-13 17:00:00+00:00'],\n",
       "              dtype='datetime64[ns, UTC]', freq=None)"
      ]
     },
     "execution_count": 169,
     "metadata": {},
     "output_type": "execute_result"
    }
   ],
   "source": [
    "fridays"
   ]
  },
  {
   "cell_type": "code",
   "execution_count": 193,
   "id": "af207fd9",
   "metadata": {},
   "outputs": [
    {
     "data": {
      "text/plain": [
       "datetime.datetime(2025, 1, 10, 17, 0)"
      ]
     },
     "execution_count": 193,
     "metadata": {},
     "output_type": "execute_result"
    }
   ],
   "source": [
    "end_friday_int = fridays.astype(int)[3] // (60 * 10**9)\n",
    "datetime.utcfromtimestamp(end_friday_int * 60)"
   ]
  },
  {
   "cell_type": "code",
   "execution_count": 82,
   "id": "631c6c43",
   "metadata": {},
   "outputs": [],
   "source": [
    "def compute_intervals_for_index(i, df, fridays):\n",
    "    \"\"\"\n",
    "    Compute prediction intervals for a single index i in the fridays array.\n",
    "    Returns a list of interval dicts.\n",
    "    \"\"\"\n",
    "    intervals = []\n",
    "    # Convert timestamps to minutes\n",
    "    train_start = fridays.astype(int)[i - 8] // (60 * 10**9)\n",
    "    train_end   = fridays.astype(int)[i - 1] // (60 * 10**9)\n",
    "    end_friday_int = fridays.astype(int)[i] // (60 * 10**9)\n",
    "\n",
    "    # Range of moving end times at 1-minute steps\n",
    "    moves = np.arange(train_end, end_friday_int, 60, dtype=float)\n",
    "    \n",
    "    # Precompute true count before loop\n",
    "    # Note: this is the count from train_end up to each move time\n",
    "    for move in moves:\n",
    "        # Fit model on data from train_start to move\n",
    "        train_data = df[(df.dateint >= train_start) & (df.dateint < move)].dateint.values.astype(float)\n",
    "        model = hk.estimator().set_kernel('exp').set_baseline('const')\n",
    "        model.fit(train_data, [train_start, move])\n",
    "\n",
    "        # Compute counts\n",
    "        tstamp = datetime.fromtimestamp(move * 60)\n",
    "        true_count_till_now = len(df[(df.dateint >= train_end) & (df.dateint < move)])\n",
    "        pred_samples = model.predict(end_friday_int, 1000)\n",
    "        counts = [len(arr) + true_count_till_now for arr in pred_samples]\n",
    "\n",
    "        intervals.append({\n",
    "            't': tstamp,\n",
    "            'pred': counts,\n",
    "            'true_count': true_count_till_now\n",
    "        })\n",
    "\n",
    "    return intervals\n",
    "\n",
    "\n",
    "def compute_all_intervals(df, fridays, n_jobs=-1, verbose=5):\n",
    "    \"\"\"\n",
    "    Compute intervals in parallel for all valid indices in fridays.\n",
    "    n_jobs: number of parallel jobs; -1 uses all CPUs.\n",
    "    verbose: controls tqdm verbosity.\n",
    "    \"\"\"\n",
    "    # Determine range of indices that have enough history\n",
    "    valid_indices = list(range(8, len(fridays)))\n",
    "\n",
    "    # Run in parallel\n",
    "    with tqdm_joblib(desc=\"Simulation\", total=len(valid_indices)) as progress_bar:\n",
    "        results = Parallel(n_jobs=n_jobs, verbose=verbose)(\n",
    "            delayed(compute_intervals_for_index)(i, df, fridays)\n",
    "            for i in valid_indices\n",
    "        )\n",
    "\n",
    "    # Flatten list of lists\n",
    "    all_intervals = [item for sublist in results for item in sublist]\n",
    "    return all_intervals\n"
   ]
  },
  {
   "cell_type": "code",
   "execution_count": 83,
   "id": "e02cae85",
   "metadata": {},
   "outputs": [
    {
     "name": "stderr",
     "output_type": "stream",
     "text": [
      "Simulation:   0%|          | 0/18 [00:00<?, ?it/s][Parallel(n_jobs=10)]: Using backend LokyBackend with 10 concurrent workers.\n",
      "Simulation: 100%|██████████| 18/18 [00:06<00:00,  2.94it/s]\n"
     ]
    },
    {
     "ename": "KeyboardInterrupt",
     "evalue": "",
     "output_type": "error",
     "traceback": [
      "\u001b[31m---------------------------------------------------------------------------\u001b[39m",
      "\u001b[31mKeyboardInterrupt\u001b[39m                         Traceback (most recent call last)",
      "\u001b[36mCell\u001b[39m\u001b[36m \u001b[39m\u001b[32mIn[83]\u001b[39m\u001b[32m, line 1\u001b[39m\n\u001b[32m----> \u001b[39m\u001b[32m1\u001b[39m intervals = \u001b[43mcompute_all_intervals\u001b[49m\u001b[43m(\u001b[49m\u001b[43mdf\u001b[49m\u001b[43m,\u001b[49m\u001b[43m \u001b[49m\u001b[43mfridays\u001b[49m\u001b[43m,\u001b[49m\u001b[43m \u001b[49m\u001b[43mn_jobs\u001b[49m\u001b[43m=\u001b[49m\u001b[32;43m10\u001b[39;49m\u001b[43m,\u001b[49m\u001b[43m \u001b[49m\u001b[43mverbose\u001b[49m\u001b[43m=\u001b[49m\u001b[32;43m5\u001b[39;49m\u001b[43m)\u001b[49m\n",
      "\u001b[36mCell\u001b[39m\u001b[36m \u001b[39m\u001b[32mIn[82]\u001b[39m\u001b[32m, line 49\u001b[39m, in \u001b[36mcompute_all_intervals\u001b[39m\u001b[34m(df, fridays, n_jobs, verbose)\u001b[39m\n\u001b[32m     47\u001b[39m \u001b[38;5;66;03m# Run in parallel\u001b[39;00m\n\u001b[32m     48\u001b[39m \u001b[38;5;28;01mwith\u001b[39;00m tqdm_joblib(desc=\u001b[33m\"\u001b[39m\u001b[33mSimulation\u001b[39m\u001b[33m\"\u001b[39m, total=\u001b[38;5;28mlen\u001b[39m(valid_indices)) \u001b[38;5;28;01mas\u001b[39;00m progress_bar:\n\u001b[32m---> \u001b[39m\u001b[32m49\u001b[39m     results = \u001b[43mParallel\u001b[49m\u001b[43m(\u001b[49m\u001b[43mn_jobs\u001b[49m\u001b[43m=\u001b[49m\u001b[43mn_jobs\u001b[49m\u001b[43m,\u001b[49m\u001b[43m \u001b[49m\u001b[43mverbose\u001b[49m\u001b[43m=\u001b[49m\u001b[43mverbose\u001b[49m\u001b[43m)\u001b[49m\u001b[43m(\u001b[49m\n\u001b[32m     50\u001b[39m \u001b[43m        \u001b[49m\u001b[43mdelayed\u001b[49m\u001b[43m(\u001b[49m\u001b[43mcompute_intervals_for_index\u001b[49m\u001b[43m)\u001b[49m\u001b[43m(\u001b[49m\u001b[43mi\u001b[49m\u001b[43m,\u001b[49m\u001b[43m \u001b[49m\u001b[43mdf\u001b[49m\u001b[43m,\u001b[49m\u001b[43m \u001b[49m\u001b[43mfridays\u001b[49m\u001b[43m)\u001b[49m\n\u001b[32m     51\u001b[39m \u001b[43m        \u001b[49m\u001b[38;5;28;43;01mfor\u001b[39;49;00m\u001b[43m \u001b[49m\u001b[43mi\u001b[49m\u001b[43m \u001b[49m\u001b[38;5;129;43;01min\u001b[39;49;00m\u001b[43m \u001b[49m\u001b[43mvalid_indices\u001b[49m\n\u001b[32m     52\u001b[39m \u001b[43m    \u001b[49m\u001b[43m)\u001b[49m\n\u001b[32m     54\u001b[39m \u001b[38;5;66;03m# Flatten list of lists\u001b[39;00m\n\u001b[32m     55\u001b[39m all_intervals = [item \u001b[38;5;28;01mfor\u001b[39;00m sublist \u001b[38;5;129;01min\u001b[39;00m results \u001b[38;5;28;01mfor\u001b[39;00m item \u001b[38;5;129;01min\u001b[39;00m sublist]\n",
      "\u001b[36mFile \u001b[39m\u001b[32mc:\\Users\\hsee\\OneDrive - LMR Partners\\Documents\\count process\\.venv\\Lib\\site-packages\\joblib\\parallel.py:2072\u001b[39m, in \u001b[36mParallel.__call__\u001b[39m\u001b[34m(self, iterable)\u001b[39m\n\u001b[32m   2066\u001b[39m \u001b[38;5;66;03m# The first item from the output is blank, but it makes the interpreter\u001b[39;00m\n\u001b[32m   2067\u001b[39m \u001b[38;5;66;03m# progress until it enters the Try/Except block of the generator and\u001b[39;00m\n\u001b[32m   2068\u001b[39m \u001b[38;5;66;03m# reaches the first `yield` statement. This starts the asynchronous\u001b[39;00m\n\u001b[32m   2069\u001b[39m \u001b[38;5;66;03m# dispatch of the tasks to the workers.\u001b[39;00m\n\u001b[32m   2070\u001b[39m \u001b[38;5;28mnext\u001b[39m(output)\n\u001b[32m-> \u001b[39m\u001b[32m2072\u001b[39m \u001b[38;5;28;01mreturn\u001b[39;00m output \u001b[38;5;28;01mif\u001b[39;00m \u001b[38;5;28mself\u001b[39m.return_generator \u001b[38;5;28;01melse\u001b[39;00m \u001b[38;5;28;43mlist\u001b[39;49m\u001b[43m(\u001b[49m\u001b[43moutput\u001b[49m\u001b[43m)\u001b[49m\n",
      "\u001b[36mFile \u001b[39m\u001b[32mc:\\Users\\hsee\\OneDrive - LMR Partners\\Documents\\count process\\.venv\\Lib\\site-packages\\joblib\\parallel.py:1682\u001b[39m, in \u001b[36mParallel._get_outputs\u001b[39m\u001b[34m(self, iterator, pre_dispatch)\u001b[39m\n\u001b[32m   1679\u001b[39m     \u001b[38;5;28;01myield\u001b[39;00m\n\u001b[32m   1681\u001b[39m     \u001b[38;5;28;01mwith\u001b[39;00m \u001b[38;5;28mself\u001b[39m._backend.retrieval_context():\n\u001b[32m-> \u001b[39m\u001b[32m1682\u001b[39m         \u001b[38;5;28;01myield from\u001b[39;00m \u001b[38;5;28mself\u001b[39m._retrieve()\n\u001b[32m   1684\u001b[39m \u001b[38;5;28;01mexcept\u001b[39;00m \u001b[38;5;167;01mGeneratorExit\u001b[39;00m:\n\u001b[32m   1685\u001b[39m     \u001b[38;5;66;03m# The generator has been garbage collected before being fully\u001b[39;00m\n\u001b[32m   1686\u001b[39m     \u001b[38;5;66;03m# consumed. This aborts the remaining tasks if possible and warn\u001b[39;00m\n\u001b[32m   1687\u001b[39m     \u001b[38;5;66;03m# the user if necessary.\u001b[39;00m\n\u001b[32m   1688\u001b[39m     \u001b[38;5;28mself\u001b[39m._exception = \u001b[38;5;28;01mTrue\u001b[39;00m\n",
      "\u001b[36mFile \u001b[39m\u001b[32mc:\\Users\\hsee\\OneDrive - LMR Partners\\Documents\\count process\\.venv\\Lib\\site-packages\\joblib\\parallel.py:1800\u001b[39m, in \u001b[36mParallel._retrieve\u001b[39m\u001b[34m(self)\u001b[39m\n\u001b[32m   1789\u001b[39m \u001b[38;5;28;01mif\u001b[39;00m \u001b[38;5;28mself\u001b[39m.return_ordered:\n\u001b[32m   1790\u001b[39m     \u001b[38;5;66;03m# Case ordered: wait for completion (or error) of the next job\u001b[39;00m\n\u001b[32m   1791\u001b[39m     \u001b[38;5;66;03m# that have been dispatched and not retrieved yet. If no job\u001b[39;00m\n\u001b[32m   (...)\u001b[39m\u001b[32m   1795\u001b[39m     \u001b[38;5;66;03m# control only have to be done on the amount of time the next\u001b[39;00m\n\u001b[32m   1796\u001b[39m     \u001b[38;5;66;03m# dispatched job is pending.\u001b[39;00m\n\u001b[32m   1797\u001b[39m     \u001b[38;5;28;01mif\u001b[39;00m (nb_jobs == \u001b[32m0\u001b[39m) \u001b[38;5;129;01mor\u001b[39;00m (\n\u001b[32m   1798\u001b[39m         \u001b[38;5;28mself\u001b[39m._jobs[\u001b[32m0\u001b[39m].get_status(timeout=\u001b[38;5;28mself\u001b[39m.timeout) == TASK_PENDING\n\u001b[32m   1799\u001b[39m     ):\n\u001b[32m-> \u001b[39m\u001b[32m1800\u001b[39m         \u001b[43mtime\u001b[49m\u001b[43m.\u001b[49m\u001b[43msleep\u001b[49m\u001b[43m(\u001b[49m\u001b[32;43m0.01\u001b[39;49m\u001b[43m)\u001b[49m\n\u001b[32m   1801\u001b[39m         \u001b[38;5;28;01mcontinue\u001b[39;00m\n\u001b[32m   1803\u001b[39m \u001b[38;5;28;01melif\u001b[39;00m nb_jobs == \u001b[32m0\u001b[39m:\n\u001b[32m   1804\u001b[39m     \u001b[38;5;66;03m# Case unordered: jobs are added to the list of jobs to\u001b[39;00m\n\u001b[32m   1805\u001b[39m     \u001b[38;5;66;03m# retrieve `self._jobs` only once completed or in error, which\u001b[39;00m\n\u001b[32m   (...)\u001b[39m\u001b[32m   1811\u001b[39m     \u001b[38;5;66;03m# timeouts before any other dispatched job has completed and\u001b[39;00m\n\u001b[32m   1812\u001b[39m     \u001b[38;5;66;03m# been added to `self._jobs` to be retrieved.\u001b[39;00m\n",
      "\u001b[31mKeyboardInterrupt\u001b[39m: "
     ]
    }
   ],
   "source": [
    "intervals = compute_all_intervals(df, fridays, n_jobs=10, verbose=5)"
   ]
  },
  {
   "cell_type": "code",
   "execution_count": null,
   "id": "a9c7798e",
   "metadata": {},
   "outputs": [],
   "source": [
    "pred = pd.DataFrame(intervals)"
   ]
  },
  {
   "cell_type": "code",
   "execution_count": null,
   "id": "0d96971f",
   "metadata": {},
   "outputs": [],
   "source": [
    "# Calculate mean, median, and 95% confidence intervals\n",
    "pred['mean'] = pred['pred'].apply(np.mean)\n",
    "pred['median'] = pred['pred'].apply(np.median)\n",
    "pred['lower'] = pred['pred'].apply(lambda x: np.percentile(x, 2.5))\n",
    "pred['upper'] = pred['pred'].apply(lambda x: np.percentile(x, 97.5))\n",
    "\n",
    "plt.figure(figsize=(12, 6))\n",
    "plt.plot(pred['t'], pred['mean'], label='Mean Prediction', color='blue')\n",
    "plt.plot(pred['t'], pred['median'], label='Median Prediction', color='orange')\n",
    "plt.plot(pred['t'], pred['true_count'], label='True count', color='orange')\n",
    "plt.fill_between(pred['t'], pred['lower'], pred['upper'], color='gray', alpha=0.3, label='95% CI')\n",
    "plt.xlabel('Time')\n",
    "plt.ylabel('Predicted Count')\n",
    "plt.title('Mean, Median, and 95% Confidence Interval of Predictions Over Time')\n",
    "plt.legend()\n",
    "plt.tight_layout()\n",
    "plt.show()"
   ]
  },
  {
   "cell_type": "code",
   "execution_count": null,
   "id": "48bb7d0d",
   "metadata": {},
   "outputs": [],
   "source": [
    "pred.to_parquet('elonmusk_8week.parquet', index=False)"
   ]
  },
  {
   "cell_type": "code",
   "execution_count": 2,
   "id": "a5c768ea",
   "metadata": {},
   "outputs": [
    {
     "data": {
      "text/plain": [
       "['C:\\\\Users\\\\hsee\\\\OneDrive - LMR Partners\\\\Documents\\\\count process\\\\price_history\\\\Elon Musk # of tweets April 11-18.parquet',\n",
       " 'C:\\\\Users\\\\hsee\\\\OneDrive - LMR Partners\\\\Documents\\\\count process\\\\price_history\\\\Elon Musk # of tweets April 18-25.parquet',\n",
       " 'C:\\\\Users\\\\hsee\\\\OneDrive - LMR Partners\\\\Documents\\\\count process\\\\price_history\\\\Elon Musk # of tweets April 25- May 2.parquet',\n",
       " 'C:\\\\Users\\\\hsee\\\\OneDrive - LMR Partners\\\\Documents\\\\count process\\\\price_history\\\\Elon Musk # of tweets April 4-11 (Lower Brackets).parquet',\n",
       " 'C:\\\\Users\\\\hsee\\\\OneDrive - LMR Partners\\\\Documents\\\\count process\\\\price_history\\\\Elon Musk # of tweets April 4-11.parquet',\n",
       " 'C:\\\\Users\\\\hsee\\\\OneDrive - LMR Partners\\\\Documents\\\\count process\\\\price_history\\\\Elon Musk # of tweets Feb 14-21.parquet',\n",
       " 'C:\\\\Users\\\\hsee\\\\OneDrive - LMR Partners\\\\Documents\\\\count process\\\\price_history\\\\Elon Musk # of tweets Feb 21-28.parquet',\n",
       " 'C:\\\\Users\\\\hsee\\\\OneDrive - LMR Partners\\\\Documents\\\\count process\\\\price_history\\\\Elon Musk # of tweets Feb 28 - Mar 7.parquet',\n",
       " 'C:\\\\Users\\\\hsee\\\\OneDrive - LMR Partners\\\\Documents\\\\count process\\\\price_history\\\\Elon Musk # of tweets Feb 7-14 (Higher Options) .parquet',\n",
       " 'C:\\\\Users\\\\hsee\\\\OneDrive - LMR Partners\\\\Documents\\\\count process\\\\price_history\\\\Elon Musk # of tweets Feb 7-14 .parquet',\n",
       " 'C:\\\\Users\\\\hsee\\\\OneDrive - LMR Partners\\\\Documents\\\\count process\\\\price_history\\\\Elon Musk # of tweets Jan 31 - Feb 7.parquet',\n",
       " 'C:\\\\Users\\\\hsee\\\\OneDrive - LMR Partners\\\\Documents\\\\count process\\\\price_history\\\\Elon Musk # of tweets January 10-17 (Brackets of 25).parquet',\n",
       " 'C:\\\\Users\\\\hsee\\\\OneDrive - LMR Partners\\\\Documents\\\\count process\\\\price_history\\\\Elon Musk # of tweets January 10-17 .parquet',\n",
       " 'C:\\\\Users\\\\hsee\\\\OneDrive - LMR Partners\\\\Documents\\\\count process\\\\price_history\\\\Elon Musk # of tweets January 17-24.parquet',\n",
       " 'C:\\\\Users\\\\hsee\\\\OneDrive - LMR Partners\\\\Documents\\\\count process\\\\price_history\\\\Elon Musk # of tweets January 24-31 (Lower options).parquet',\n",
       " 'C:\\\\Users\\\\hsee\\\\OneDrive - LMR Partners\\\\Documents\\\\count process\\\\price_history\\\\Elon Musk # of tweets January 24-31.parquet',\n",
       " 'C:\\\\Users\\\\hsee\\\\OneDrive - LMR Partners\\\\Documents\\\\count process\\\\price_history\\\\Elon Musk # of tweets January 3-10 (Continued) .parquet',\n",
       " 'C:\\\\Users\\\\hsee\\\\OneDrive - LMR Partners\\\\Documents\\\\count process\\\\price_history\\\\Elon Musk # of tweets January 3-10.parquet',\n",
       " 'C:\\\\Users\\\\hsee\\\\OneDrive - LMR Partners\\\\Documents\\\\count process\\\\price_history\\\\Elon Musk # of tweets June 13-20.parquet',\n",
       " 'C:\\\\Users\\\\hsee\\\\OneDrive - LMR Partners\\\\Documents\\\\count process\\\\price_history\\\\Elon Musk # of tweets June 6-13.parquet',\n",
       " 'C:\\\\Users\\\\hsee\\\\OneDrive - LMR Partners\\\\Documents\\\\count process\\\\price_history\\\\Elon Musk # of tweets Mar 14-21 (Lower Brackets).parquet',\n",
       " 'C:\\\\Users\\\\hsee\\\\OneDrive - LMR Partners\\\\Documents\\\\count process\\\\price_history\\\\Elon Musk # of tweets Mar 14-21.parquet',\n",
       " 'C:\\\\Users\\\\hsee\\\\OneDrive - LMR Partners\\\\Documents\\\\count process\\\\price_history\\\\Elon Musk # of tweets Mar 21-28.parquet',\n",
       " 'C:\\\\Users\\\\hsee\\\\OneDrive - LMR Partners\\\\Documents\\\\count process\\\\price_history\\\\Elon Musk # of tweets Mar 28- Apr 4.parquet',\n",
       " 'C:\\\\Users\\\\hsee\\\\OneDrive - LMR Partners\\\\Documents\\\\count process\\\\price_history\\\\Elon Musk # of tweets Mar 7-14.parquet',\n",
       " 'C:\\\\Users\\\\hsee\\\\OneDrive - LMR Partners\\\\Documents\\\\count process\\\\price_history\\\\Elon Musk # of tweets May 16-23.parquet',\n",
       " 'C:\\\\Users\\\\hsee\\\\OneDrive - LMR Partners\\\\Documents\\\\count process\\\\price_history\\\\Elon Musk # of tweets May 2-9.parquet',\n",
       " 'C:\\\\Users\\\\hsee\\\\OneDrive - LMR Partners\\\\Documents\\\\count process\\\\price_history\\\\Elon Musk # of tweets May 23-30.parquet',\n",
       " 'C:\\\\Users\\\\hsee\\\\OneDrive - LMR Partners\\\\Documents\\\\count process\\\\price_history\\\\Elon Musk # of tweets May 30 - June 6 (Higher Brackets).parquet',\n",
       " 'C:\\\\Users\\\\hsee\\\\OneDrive - LMR Partners\\\\Documents\\\\count process\\\\price_history\\\\Elon Musk # of tweets May 30 - June 6.parquet',\n",
       " 'C:\\\\Users\\\\hsee\\\\OneDrive - LMR Partners\\\\Documents\\\\count process\\\\price_history\\\\Elon Musk # of tweets May 9-16.parquet']"
      ]
     },
     "execution_count": 2,
     "metadata": {},
     "output_type": "execute_result"
    }
   ],
   "source": [
    "import os\n",
    "from glob import glob\n",
    "\n",
    "folder_path = r'C:\\Users\\hsee\\OneDrive - LMR Partners\\Documents\\count process\\price_history'\n",
    "parquet_files = glob(os.path.join(folder_path, '*.parquet'))\n",
    "parquet_files"
   ]
  },
  {
   "cell_type": "code",
   "execution_count": 3,
   "id": "f62a627e",
   "metadata": {},
   "outputs": [
    {
     "name": "stderr",
     "output_type": "stream",
     "text": [
      "performance hint: .venv\\Lib\\site-packages\\pyarrow\\_azurefs.pyx:120:36: Exception check after calling 'GetResultValue[shared_ptr[CAzureFileSystem]]' will always require the GIL to be acquired. Declare 'GetResultValue[shared_ptr[CAzureFileSystem]]' as 'noexcept' if you control the definition and you're sure you don't want the function to raise exceptions.\n"
     ]
    }
   ],
   "source": [
    "pred = pd.read_parquet('elonmusk_4week.parquet')\n",
    "pred['t'] = pd.to_datetime(pred['t'])\n",
    "\n",
    "# attach the HK zone and hop to UTC\n",
    "pred['t'] = (pred['t']\n",
    "               .dt.tz_localize('Asia/Hong_Kong')  # stamp as local HK time\n",
    "               .dt.tz_convert('UTC')\n",
    "               .dt.tz_localize(None))             # convert to UTC"
   ]
  },
  {
   "cell_type": "code",
   "execution_count": 4,
   "id": "e6df7f7f",
   "metadata": {},
   "outputs": [],
   "source": [
    "import re, math\n",
    "\n",
    "def key_to_range(col_key: str) -> tuple[int, int | None]:\n",
    "    \"\"\"\n",
    "    Convert one column name into (low, high).\n",
    "\n",
    "    >>> key_to_range('will-elon-tweet-160174-times-june-1320_Yes')\n",
    "    (160, 174)\n",
    "    >>> key_to_range('will-elon-tweet-295-or-more-times-june-1320_Yes')\n",
    "    (295, None)\n",
    "    >>> key_to_range('will-elon-tweet-less-than-100-times-june-1320_Yes')\n",
    "    (0, 99)\n",
    "    \"\"\"\n",
    "    core = col_key.split(\"_\")[0]       # drop the “_Yes / _No” suffix\n",
    "\n",
    "    # 1) open-ended “or-more”\n",
    "    m = re.search(r'(\\d+)-or-more', core)\n",
    "    if m:\n",
    "        return int(m.group(1)), None\n",
    "\n",
    "    # 2) “less-than-N”\n",
    "    m = re.search(r'less-than-(\\d+)', core)\n",
    "    if m:\n",
    "        return 0, int(m.group(1)) - 1\n",
    "\n",
    "    # 3) regular 6-digit block  (e.g. 160174 → 160-174)\n",
    "    m = re.search(r'(\\d{6})times', core.replace('-', ''))\n",
    "    if not m:\n",
    "        raise ValueError(f\"unrecognised pattern in {col_key!r}\")\n",
    "    num = m.group(1)\n",
    "    return int(num[:3]), int(num[3:])\n",
    "\n",
    "def point_to_range(row):\n",
    "    predictions = pred[pred.t <=row['index']].iloc[-1].pred\n",
    "    \n",
    "    output = [[ranges , 0 ] for ranges in row.index if ranges != \"index\"]\n",
    "    \n",
    "    for i in predictions:\n",
    "        for x in output:\n",
    "            if x[0][0] <= i <= (x[0][1] if x[0][1] is not None else float('inf')):\n",
    "                x[1] += 1 / 1000\n",
    "    return output\n",
    "\n"
   ]
  },
  {
   "cell_type": "code",
   "execution_count": null,
   "id": "23726912",
   "metadata": {},
   "outputs": [],
   "source": []
  },
  {
   "cell_type": "code",
   "execution_count": 5,
   "id": "2fe2a42e",
   "metadata": {},
   "outputs": [
    {
     "name": "stderr",
     "output_type": "stream",
     "text": [
      "16it [02:49,  9.57s/it]"
     ]
    },
    {
     "name": "stdout",
     "output_type": "stream",
     "text": [
      "Error processing file C:\\Users\\hsee\\OneDrive - LMR Partners\\Documents\\count process\\price_history\\Elon Musk # of tweets January 3-10 (Continued) .parquet. Skipping.\n",
      "Error processing file C:\\Users\\hsee\\OneDrive - LMR Partners\\Documents\\count process\\price_history\\Elon Musk # of tweets January 3-10.parquet. Skipping.\n"
     ]
    },
    {
     "name": "stderr",
     "output_type": "stream",
     "text": [
      "29it [04:55,  9.17s/it]"
     ]
    },
    {
     "name": "stdout",
     "output_type": "stream",
     "text": [
      "Error processing file C:\\Users\\hsee\\OneDrive - LMR Partners\\Documents\\count process\\price_history\\Elon Musk # of tweets May 30 - June 6.parquet. Skipping.\n"
     ]
    },
    {
     "name": "stderr",
     "output_type": "stream",
     "text": [
      "31it [05:07,  9.90s/it]\n"
     ]
    }
   ],
   "source": [
    "import os\n",
    "\n",
    "# Create output directory if it doesn't exist\n",
    "os.makedirs('plots', exist_ok=True)\n",
    "\n",
    "for i, file in tqdm(enumerate(parquet_files)):\n",
    "    try:\n",
    "        tmp = pd.read_parquet(file)\n",
    "        tmp = tmp[100:]\n",
    "        tmp.fillna(0, inplace=True)\n",
    "        normalised_data = tmp.div(tmp.sum(1), axis=0)\n",
    "\n",
    "        ranges = [key_to_range(k) for k in normalised_data.columns]\n",
    "        normalised_data.columns = ranges\n",
    "\n",
    "        ser = normalised_data.reset_index().apply(lambda row: point_to_range(row), axis=1)\n",
    "        df_plot = pd.DataFrame([dict(row) for row in ser])\n",
    "\n",
    "        df_plot = df_plot.reindex(\n",
    "            sorted(df_plot.columns, key=lambda rng: rng[0] if rng[0] is not None else -1),\n",
    "            axis=1\n",
    "        )\n",
    "        df_plot.index = normalised_data.index\n",
    "        normalised_data_trim = normalised_data[:-300]\n",
    "        df_plot_trim = df_plot[:-300]\n",
    "\n",
    "        plt.figure(figsize=(10, 6))\n",
    "        (np.log(np.clip(df_plot_trim[normalised_data_trim.iloc[-1].idxmax()], 1e-5, 1-1e-5)) +\n",
    "        np.log(np.clip(df_plot_trim[[col for col in df_plot_trim.columns if col != normalised_data_trim.iloc[-1].idxmax()]], 1e-5, 1-1e-5)).sum(1)).plot(label='Predicted')\n",
    "        (np.log(np.clip(normalised_data_trim[normalised_data_trim.iloc[-1].idxmax()], 1e-5, 1-1e-5)) +\n",
    "        np.log(np.clip(normalised_data_trim[[col for col in df_plot_trim.columns if col != normalised_data_trim.iloc[-1].idxmax()]], 1e-5, 1-1e-5)).sum(1)).plot(label='Actual')\n",
    "        plt.legend()\n",
    "        plt.title(os.path.basename(file))\n",
    "        plt.tight_layout()\n",
    "        plt.savefig(f'plots/{os.path.basename(file)}.png')\n",
    "        plt.close()\n",
    "    except:\n",
    "        print(f\"Error processing file {file}. Skipping.\")\n",
    "        continue"
   ]
  },
  {
   "cell_type": "code",
   "execution_count": 13,
   "id": "1ad32181",
   "metadata": {},
   "outputs": [],
   "source": [
    "import seaborn as sns"
   ]
  },
  {
   "cell_type": "code",
   "execution_count": 15,
   "id": "5201c3bc",
   "metadata": {},
   "outputs": [
    {
     "data": {
      "text/plain": [
       "<seaborn.axisgrid.FacetGrid at 0x2c6d21bef30>"
      ]
     },
     "execution_count": 15,
     "metadata": {},
     "output_type": "execute_result"
    },
    {
     "data": {
      "image/png": "[encoded data removed]",
      "text/plain": [
       "<Figure size 500x500 with 1 Axes>"
      ]
     },
     "metadata": {},
     "output_type": "display_data"
    }
   ],
   "source": [
    "sns.displot((df_plot_trim - normalised_data_trim).values.flatten())"
   ]
  },
  {
   "cell_type": "code",
   "execution_count": 16,
   "id": "caaa7a9c",
   "metadata": {},
   "outputs": [],
   "source": [
    "import requests"
   ]
  },
  {
   "cell_type": "code",
   "execution_count": 19,
   "id": "73c6bf71",
   "metadata": {},
   "outputs": [],
   "source": [
    "TRADE_API = {\n",
    "    \"elon\" : \"https://data-api.polymarket.com/trades?market=0x21668d96970d9915b53099eb8887afa735269d9b9a6be1990bf046bfce353722,0x5f00ee6dea46d14ed4072c9bfc218d181497d8719607e0e94769b9099a18994d,0x822355d49548602e82f77260f3779fe837d9b00ccd01f983aac44615862d9f93,0xef6ea4e68f2c30b2c6da3bae6163685b7a37f16dd7ba41f690f69fb7d58a844d,0x9fb2e2adf45b65d4afda76610b5765514219529ae300036d13aa6577be680508,0x5d072d5c80efad0ed4a29a14426ff2f1913e664c1135359a32018b7794f44b79,0xc9e0c5eda48b33180f47ad97c77db19a8d2707687af382d2e5639b9e391544cb,0x9eae3ac697455267a466d3528f906bd589e3150e85308cc03c2ee07646efc1e7,0x90cdae146f21b9d5809ff54ffaa318d2acb5b7e23aebd61f515a3854738bde0e,0x70c99edb32b0a74d8aae37a5530369d1f454231ccfbe08e93285de8feda67e4e,0x25cb58ab90fcd593928d08ef6291f687478f4ee9eab7b40f3f3122e659f6cb1c,0xa6467c33779e3a530938a0c0f5973927e5f3bf3fe4838854a47f12e77d183afe,0x76fa8b3759d1cb7a1f4269a76626b1f17acd23a51e91a0798044d127d2fdfff1,0xf7d25a080d942b0ceeb5f95c2e60f42d8cbf223025723e0bfac977ee9f002201\", \n",
    "    \"trump\" : \"https://data-api.polymarket.com/trades?market=0x9623c5216556a9b9f40cce7b285b50cca409a5ee2532f806846c9c4ab2ece2d2,0xe2efd43b1b655e537810774f658d25138c4001b03af03d718f672c3b8687378d,0x72594ec4f1686e8113a11f5812d7cc7198ea3af86e3bdced9e56d1593237edc7,0xb6a2213f6ac7eaea93e4ebf21995a161607c3eacfd66b2b4f4656e2715124e77,0xb73f4f309dd7107042f1cc9e032bf2123050aaa952a9e0e4616d3e80832147ec,0xe3b8391ba81e290597f7944701b4345a066dc02837251e0766f80489633f7e93,0x24bfd146dc3cf164839311f05ecdc8e7e61ff7f7b0b5d8f39607f656c8684fb4,0x69122741cd305bef99027fb3b0f474ad4afc71c60d56ea57b7a8eddfc34c8652,0x2a18c65fccc5cf697c25be750ae27b67fa61bcd879d8b93306fb2d997cc6152e\"\n",
    "}\n",
    "\n",
    "    \n",
    "TIMEZONE_INFO = {\"EDT\": -4 * 3600, \"EST\": -5 * 3600}\n",
    "HEADERS = {\n",
    "    'Accept': '*/*',\n",
    "    'User-Agent': 'Mozilla/5.0 (Macintosh; Intel Mac OS X 10_15_7) AppleWebKit/537.36 (KHTML, like Gecko) Chrome/131.0.0.0 Safari/537.36',\n",
    "}\n",
    "\n",
    "TWEET_API_URL = {\n",
    "    \"elon\" : \"https://www.xtracker.io/api/users?stats=true&platform=X\",\n",
    "    \"trump\" : \"https://www.xtracker.io/api/users?stats=true&platform=TRUTH_SOCIAL\"\n",
    "}\n",
    "NAME = {\n",
    "    \"elon\" : \"Elon Musk\",\n",
    "    \"trump\" : \"Donald Trump\"\n",
    "}\n",
    "\n",
    "def fetch_tweets(person, utc=True):\n",
    "    try:\n",
    "        trump_json = {\n",
    "            'handle': 'realDonaldTrump',\n",
    "            'platform': 'TRUTH_SOCIAL',\n",
    "        }\n",
    "        elon_json = {'handle': 'elonmusk'}\n",
    "\n",
    "        if person == 'trump':\n",
    "            response = requests.post('https://www.xtracker.io/api/download',\n",
    "                                     headers=HEADERS,\n",
    "                                     json= trump_json)\n",
    "        elif person == 'elon':\n",
    "            response = requests.post('https://www.xtracker.io/api/download',\n",
    "                                     headers=HEADERS,\n",
    "                                     json= elon_json)\n",
    "        else:\n",
    "            raise Exception(\"Unknown person\")\n",
    "            \n",
    "        large_text = response.text\n",
    "\n",
    "        id = re.findall(r'(\\d+),\"[\\s\\S]+?\",\"\\w\\w\\w .+\"\\n', large_text)\n",
    "        text = re.findall(r'\\d+,\"([\\s\\S]+?)\",\"\\w\\w\\w .+\"\\n', large_text)\n",
    "        date = re.findall(r'\\d+,\"[\\s\\S]+?\",\"(\\w\\w\\w .+)\"\\n', large_text)\n",
    "\n",
    "        df = pd.DataFrame([id, text, date]).T\n",
    "        \n",
    "        df.columns = [\"id\", \"text\", \"date\"]\n",
    "        df = df.iloc[8000:]\n",
    "        df['date'] = np.where(df['date'].str.contains(\"Jan|Feb|Mar|Apr|May|Jun\"),\n",
    "                              df['date'] + ' 2025',\n",
    "                              df['date'] + \" 2024\")\n",
    "        if utc:\n",
    "            df.date = pd.to_datetime(df.date.apply(\n",
    "                lambda x: parser.parse(x, tzinfos=TIMEZONE_INFO)), utc=True)\n",
    "            df['dateint'] = df['date'].astype(int) // (60 * 10 ** 9)\n",
    "        else:\n",
    "            df.date = pd.to_datetime(df.date.apply(\n",
    "                lambda x: parser.parse(x, tzinfos=TIMEZONE_INFO)), utc=True)\n",
    "\n",
    "        return df\n",
    "    except Exception as e:\n",
    "        print(f\"Error fetching tweets for {person}: {e}\")\n",
    "        return pd.DataFrame()"
   ]
  },
  {
   "cell_type": "code",
   "execution_count": 20,
   "id": "28c03b87",
   "metadata": {},
   "outputs": [
    {
     "name": "stdout",
     "output_type": "stream",
     "text": [
      "Error fetching tweets for elon: Can only use .str accessor with string values!\n"
     ]
    },
    {
     "data": {
      "application/vnd.microsoft.datawrangler.viewer.v0+json": {
       "columns": [
        {
         "name": "index",
         "rawType": "int64",
         "type": "integer"
        }
       ],
       "ref": "b54048f9-0732-4d9d-8424-b980a61bbef6",
       "rows": [],
       "shape": {
        "columns": 0,
        "rows": 0
       }
      },
      "text/html": [
       "<div>\n",
       "<style scoped>\n",
       "    .dataframe tbody tr th:only-of-type {\n",
       "        vertical-align: middle;\n",
       "    }\n",
       "\n",
       "    .dataframe tbody tr th {\n",
       "        vertical-align: top;\n",
       "    }\n",
       "\n",
       "    .dataframe thead th {\n",
       "        text-align: right;\n",
       "    }\n",
       "</style>\n",
       "<table border=\"1\" class=\"dataframe\">\n",
       "  <thead>\n",
       "    <tr style=\"text-align: right;\">\n",
       "      <th></th>\n",
       "    </tr>\n",
       "  </thead>\n",
       "  <tbody>\n",
       "  </tbody>\n",
       "</table>\n",
       "</div>"
      ],
      "text/plain": [
       "Empty DataFrame\n",
       "Columns: []\n",
       "Index: []"
      ]
     },
     "execution_count": 20,
     "metadata": {},
     "output_type": "execute_result"
    }
   ],
   "source": [
    "fetch_tweets('elon')"
   ]
  },
  {
   "cell_type": "code",
   "execution_count": 28,
   "id": "f6d53d50",
   "metadata": {},
   "outputs": [
    {
     "ename": "JSONDecodeError",
     "evalue": "Expecting value: line 1 column 1 (char 0)",
     "output_type": "error",
     "traceback": [
      "\u001b[31m---------------------------------------------------------------------------\u001b[39m",
      "\u001b[31mJSONDecodeError\u001b[39m                           Traceback (most recent call last)",
      "\u001b[36mFile \u001b[39m\u001b[32mc:\\Users\\hsee\\OneDrive - LMR Partners\\Documents\\count process\\.venv\\Lib\\site-packages\\requests\\models.py:976\u001b[39m, in \u001b[36mResponse.json\u001b[39m\u001b[34m(self, **kwargs)\u001b[39m\n\u001b[32m    975\u001b[39m \u001b[38;5;28;01mtry\u001b[39;00m:\n\u001b[32m--> \u001b[39m\u001b[32m976\u001b[39m     \u001b[38;5;28;01mreturn\u001b[39;00m \u001b[43mcomplexjson\u001b[49m\u001b[43m.\u001b[49m\u001b[43mloads\u001b[49m\u001b[43m(\u001b[49m\u001b[38;5;28;43mself\u001b[39;49m\u001b[43m.\u001b[49m\u001b[43mtext\u001b[49m\u001b[43m,\u001b[49m\u001b[43m \u001b[49m\u001b[43m*\u001b[49m\u001b[43m*\u001b[49m\u001b[43mkwargs\u001b[49m\u001b[43m)\u001b[49m\n\u001b[32m    977\u001b[39m \u001b[38;5;28;01mexcept\u001b[39;00m JSONDecodeError \u001b[38;5;28;01mas\u001b[39;00m e:\n\u001b[32m    978\u001b[39m     \u001b[38;5;66;03m# Catch JSON-related errors and raise as requests.JSONDecodeError\u001b[39;00m\n\u001b[32m    979\u001b[39m     \u001b[38;5;66;03m# This aliases json.JSONDecodeError and simplejson.JSONDecodeError\u001b[39;00m\n",
      "\u001b[36mFile \u001b[39m\u001b[32mC:\\Program Files\\Python312\\Lib\\json\\__init__.py:346\u001b[39m, in \u001b[36mloads\u001b[39m\u001b[34m(s, cls, object_hook, parse_float, parse_int, parse_constant, object_pairs_hook, **kw)\u001b[39m\n\u001b[32m    343\u001b[39m \u001b[38;5;28;01mif\u001b[39;00m (\u001b[38;5;28mcls\u001b[39m \u001b[38;5;129;01mis\u001b[39;00m \u001b[38;5;28;01mNone\u001b[39;00m \u001b[38;5;129;01mand\u001b[39;00m object_hook \u001b[38;5;129;01mis\u001b[39;00m \u001b[38;5;28;01mNone\u001b[39;00m \u001b[38;5;129;01mand\u001b[39;00m\n\u001b[32m    344\u001b[39m         parse_int \u001b[38;5;129;01mis\u001b[39;00m \u001b[38;5;28;01mNone\u001b[39;00m \u001b[38;5;129;01mand\u001b[39;00m parse_float \u001b[38;5;129;01mis\u001b[39;00m \u001b[38;5;28;01mNone\u001b[39;00m \u001b[38;5;129;01mand\u001b[39;00m\n\u001b[32m    345\u001b[39m         parse_constant \u001b[38;5;129;01mis\u001b[39;00m \u001b[38;5;28;01mNone\u001b[39;00m \u001b[38;5;129;01mand\u001b[39;00m object_pairs_hook \u001b[38;5;129;01mis\u001b[39;00m \u001b[38;5;28;01mNone\u001b[39;00m \u001b[38;5;129;01mand\u001b[39;00m \u001b[38;5;129;01mnot\u001b[39;00m kw):\n\u001b[32m--> \u001b[39m\u001b[32m346\u001b[39m     \u001b[38;5;28;01mreturn\u001b[39;00m \u001b[43m_default_decoder\u001b[49m\u001b[43m.\u001b[49m\u001b[43mdecode\u001b[49m\u001b[43m(\u001b[49m\u001b[43ms\u001b[49m\u001b[43m)\u001b[49m\n\u001b[32m    347\u001b[39m \u001b[38;5;28;01mif\u001b[39;00m \u001b[38;5;28mcls\u001b[39m \u001b[38;5;129;01mis\u001b[39;00m \u001b[38;5;28;01mNone\u001b[39;00m:\n",
      "\u001b[36mFile \u001b[39m\u001b[32mC:\\Program Files\\Python312\\Lib\\json\\decoder.py:338\u001b[39m, in \u001b[36mJSONDecoder.decode\u001b[39m\u001b[34m(self, s, _w)\u001b[39m\n\u001b[32m    334\u001b[39m \u001b[38;5;250m\u001b[39m\u001b[33;03m\"\"\"Return the Python representation of ``s`` (a ``str`` instance\u001b[39;00m\n\u001b[32m    335\u001b[39m \u001b[33;03mcontaining a JSON document).\u001b[39;00m\n\u001b[32m    336\u001b[39m \n\u001b[32m    337\u001b[39m \u001b[33;03m\"\"\"\u001b[39;00m\n\u001b[32m--> \u001b[39m\u001b[32m338\u001b[39m obj, end = \u001b[38;5;28;43mself\u001b[39;49m\u001b[43m.\u001b[49m\u001b[43mraw_decode\u001b[49m\u001b[43m(\u001b[49m\u001b[43ms\u001b[49m\u001b[43m,\u001b[49m\u001b[43m \u001b[49m\u001b[43midx\u001b[49m\u001b[43m=\u001b[49m\u001b[43m_w\u001b[49m\u001b[43m(\u001b[49m\u001b[43ms\u001b[49m\u001b[43m,\u001b[49m\u001b[43m \u001b[49m\u001b[32;43m0\u001b[39;49m\u001b[43m)\u001b[49m\u001b[43m.\u001b[49m\u001b[43mend\u001b[49m\u001b[43m(\u001b[49m\u001b[43m)\u001b[49m\u001b[43m)\u001b[49m\n\u001b[32m    339\u001b[39m end = _w(s, end).end()\n",
      "\u001b[36mFile \u001b[39m\u001b[32mC:\\Program Files\\Python312\\Lib\\json\\decoder.py:356\u001b[39m, in \u001b[36mJSONDecoder.raw_decode\u001b[39m\u001b[34m(self, s, idx)\u001b[39m\n\u001b[32m    355\u001b[39m \u001b[38;5;28;01mexcept\u001b[39;00m \u001b[38;5;167;01mStopIteration\u001b[39;00m \u001b[38;5;28;01mas\u001b[39;00m err:\n\u001b[32m--> \u001b[39m\u001b[32m356\u001b[39m     \u001b[38;5;28;01mraise\u001b[39;00m JSONDecodeError(\u001b[33m\"\u001b[39m\u001b[33mExpecting value\u001b[39m\u001b[33m\"\u001b[39m, s, err.value) \u001b[38;5;28;01mfrom\u001b[39;00m\u001b[38;5;250m \u001b[39m\u001b[38;5;28;01mNone\u001b[39;00m\n\u001b[32m    357\u001b[39m \u001b[38;5;28;01mreturn\u001b[39;00m obj, end\n",
      "\u001b[31mJSONDecodeError\u001b[39m: Expecting value: line 1 column 1 (char 0)",
      "\nDuring handling of the above exception, another exception occurred:\n",
      "\u001b[31mJSONDecodeError\u001b[39m                           Traceback (most recent call last)",
      "\u001b[36mCell\u001b[39m\u001b[36m \u001b[39m\u001b[32mIn[28]\u001b[39m\u001b[32m, line 3\u001b[39m\n\u001b[32m      1\u001b[39m data = \u001b[43mrequests\u001b[49m\u001b[43m.\u001b[49m\u001b[43mpost\u001b[49m\u001b[43m(\u001b[49m\u001b[33;43m'\u001b[39;49m\u001b[33;43mhttps://www.xtracker.io/api/download\u001b[39;49m\u001b[33;43m'\u001b[39;49m\u001b[43m,\u001b[49m\n\u001b[32m      2\u001b[39m \u001b[43m                                     \u001b[49m\u001b[43mheaders\u001b[49m\u001b[43m=\u001b[49m\u001b[43mHEADERS\u001b[49m\u001b[43m,\u001b[49m\n\u001b[32m----> \u001b[39m\u001b[32m3\u001b[39m \u001b[43m                                     \u001b[49m\u001b[43mjson\u001b[49m\u001b[43m=\u001b[49m\u001b[43m \u001b[49m\u001b[43m{\u001b[49m\u001b[33;43m'\u001b[39;49m\u001b[33;43mhandle\u001b[39;49m\u001b[33;43m'\u001b[39;49m\u001b[43m:\u001b[49m\u001b[43m \u001b[49m\u001b[33;43m'\u001b[39;49m\u001b[33;43melonmusk\u001b[39;49m\u001b[33;43m'\u001b[39;49m\u001b[43m}\u001b[49m\u001b[43m)\u001b[49m\u001b[43m.\u001b[49m\u001b[43mjson\u001b[49m\u001b[43m(\u001b[49m\u001b[43m)\u001b[49m\n\u001b[32m      4\u001b[39m data\n",
      "\u001b[36mFile \u001b[39m\u001b[32mc:\\Users\\hsee\\OneDrive - LMR Partners\\Documents\\count process\\.venv\\Lib\\site-packages\\requests\\models.py:980\u001b[39m, in \u001b[36mResponse.json\u001b[39m\u001b[34m(self, **kwargs)\u001b[39m\n\u001b[32m    976\u001b[39m     \u001b[38;5;28;01mreturn\u001b[39;00m complexjson.loads(\u001b[38;5;28mself\u001b[39m.text, **kwargs)\n\u001b[32m    977\u001b[39m \u001b[38;5;28;01mexcept\u001b[39;00m JSONDecodeError \u001b[38;5;28;01mas\u001b[39;00m e:\n\u001b[32m    978\u001b[39m     \u001b[38;5;66;03m# Catch JSON-related errors and raise as requests.JSONDecodeError\u001b[39;00m\n\u001b[32m    979\u001b[39m     \u001b[38;5;66;03m# This aliases json.JSONDecodeError and simplejson.JSONDecodeError\u001b[39;00m\n\u001b[32m--> \u001b[39m\u001b[32m980\u001b[39m     \u001b[38;5;28;01mraise\u001b[39;00m RequestsJSONDecodeError(e.msg, e.doc, e.pos)\n",
      "\u001b[31mJSONDecodeError\u001b[39m: Expecting value: line 1 column 1 (char 0)"
     ]
    }
   ],
   "source": [
    "data = requests.post('https://www.xtracker.io/api/download',\n",
    "                                     headers=HEADERS,\n",
    "                                     json= {'handle': 'elonmusk'}).json()\n",
    "data"
   ]
  },
  {
   "cell_type": "code",
   "execution_count": 29,
   "id": "1d987291",
   "metadata": {},
   "outputs": [
    {
     "data": {
      "text/plain": [
       "<Response [503]>"
      ]
     },
     "execution_count": 29,
     "metadata": {},
     "output_type": "execute_result"
    }
   ],
   "source": [
    "requests.post('https://www.xtracker.io/api/download',\n",
    "                                     headers=HEADERS,\n",
    "                                     json= {'handle': 'elonmusk'})"
   ]
  },
  {
   "cell_type": "code",
   "execution_count": null,
   "id": "b7f18ed2",
   "metadata": {},
   "outputs": [],
   "source": []
  }
 ],
 "metadata": {
  "kernelspec": {
   "display_name": ".venv",
   "language": "python",
   "name": "python3"
  },
  "language_info": {
   "codemirror_mode": {
    "name": "ipython",
    "version": 3
   },
   "file_extension": ".py",
   "mimetype": "text/x-python",
   "name": "python",
   "nbconvert_exporter": "python",
   "pygments_lexer": "ipython3",
   "version": "3.12.10"
  }
 },
 "nbformat": 4,
 "nbformat_minor": 5
}
